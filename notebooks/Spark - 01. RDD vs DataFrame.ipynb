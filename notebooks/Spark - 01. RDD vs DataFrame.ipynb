{
 "cells": [
  {
   "cell_type": "markdown",
   "metadata": {
    "id": "OCH4pZBocq0N"
   },
   "source": [
    "# Lab 01 - RDD vs DataFrame\n",
    "\n",
    "Dalam latihan ini kita akan melihat perbedaan fungsi dan operasi antara RDD dan DataFrame, yaitu filtering dan agregasi."
   ]
  },
  {
   "cell_type": "markdown",
   "metadata": {
    "id": "Bggy7DeBX-1c"
   },
   "source": [
    "Import package yang dibutuhkan"
   ]
  },
  {
   "cell_type": "code",
   "execution_count": null,
   "metadata": {
    "id": "p0CyPWlHU5oL"
   },
   "outputs": [],
   "source": [
    "import pyspark\n",
    "import pyspark.sql.functions as F\n",
    "from pyspark.sql import SparkSession\n",
    "from pyspark.sql.functions import avg"
   ]
  },
  {
   "cell_type": "markdown",
   "metadata": {
    "id": "3s0yTjp_X2JP"
   },
   "source": [
    "Create spark session"
   ]
  },
  {
   "cell_type": "code",
   "execution_count": null,
   "metadata": {
    "id": "RFeguv1rU6lq"
   },
   "outputs": [],
   "source": [
    "spark = SparkSession.builder.appName('RDD & DataFrame').getOrCreate()"
   ]
  },
  {
   "cell_type": "code",
   "execution_count": null,
   "metadata": {},
   "outputs": [],
   "source": [
    "spark.conf.get(\"spark.app.name\")"
   ]
  },
  {
   "cell_type": "markdown",
   "metadata": {
    "id": "sbnDZElFYM5M"
   },
   "source": [
    "## Create\n",
    "\n"
   ]
  },
  {
   "cell_type": "code",
   "execution_count": null,
   "metadata": {
    "colab": {
     "base_uri": "https://localhost:8080/"
    },
    "id": "pGeWMd7qFqiy",
    "outputId": "80a03916-ee6d-4929-e4fc-188c1325c2ea"
   },
   "outputs": [],
   "source": [
    "listData = [(\"Banten\",1222258,\"Lebak\"),\n",
    "(\"Banten\",1175148,\"Pandeglang\"),\n",
    "(\"Banten\",1435003,\"Serang\"),\n",
    "(\"Banten\",2619803,\"Tangerang\"),\n",
    "(\"DKI Jakarta\",23340,\"Kepulauan Seribu\"),\n",
    "(\"DKI Jakarta\",2185711,\"Jakarta Selatan\"),\n",
    "(\"DKI Jakarta\",2843816,\"Jakarta Timur\"),\n",
    "(\"DKI Jakarta\",914182,\"Jakarta Pusat\"),\n",
    "(\"DKI Jakarta\",2463560,\"Jakarta Barat\"),\n",
    "(\"DKI Jakarta\",1747315,\"Jakarta Utara\")]\n",
    "\n",
    "listData"
   ]
  },
  {
   "cell_type": "markdown",
   "metadata": {
    "id": "PqiNheFLr0ST"
   },
   "source": [
    "### Create RDD\n",
    "\n",
    "Create spark RDD dengan menggunakan fungsi `sparkContext.parallelize()`"
   ]
  },
  {
   "cell_type": "code",
   "execution_count": null,
   "metadata": {
    "id": "4VUblqaN4kbP"
   },
   "outputs": [],
   "source": [
    "dataRDD = spark.sparkContext.parallelize(listData)"
   ]
  },
  {
   "cell_type": "markdown",
   "metadata": {
    "id": "YhfZPsP3w5ff"
   },
   "source": [
    "Tampilkan hasilnya dengan perintah `collect`\n",
    "\n",
    "**Perhatikan** bahwa ketika kita memanggil perintah `collect()` terhadap sebuah RDD ataupun Dataset, **seluruh data dalam RDD tersebut akan dikirim ke node di mana driver berada**. Oleh karena itu perlu dipertimbangkan ukuran data sebelum memanggil fungsi `collect`."
   ]
  },
  {
   "cell_type": "code",
   "execution_count": null,
   "metadata": {
    "colab": {
     "base_uri": "https://localhost:8080/"
    },
    "id": "TlcgICGqxCH3",
    "outputId": "4322cd0b-266e-4b9d-9b2b-0374083be2b8"
   },
   "outputs": [],
   "source": [
    "dataRDD.collect()"
   ]
  },
  {
   "cell_type": "markdown",
   "metadata": {
    "id": "roHJPpLMr5z5"
   },
   "source": [
    "### Create DataFrame\n",
    "Create DataFrame dengan menggunakan fungsi `createDataFrame()`"
   ]
  },
  {
   "cell_type": "code",
   "execution_count": null,
   "metadata": {
    "id": "LGHSciY25h0d"
   },
   "outputs": [],
   "source": [
    "dataDF = spark.createDataFrame(listData, [\"province\", \"pop\",\"district\"])"
   ]
  },
  {
   "cell_type": "markdown",
   "metadata": {
    "id": "UE6tIFDzxGeW"
   },
   "source": [
    "Tampilkan hasilnya dengan perintah `show`"
   ]
  },
  {
   "cell_type": "code",
   "execution_count": null,
   "metadata": {
    "colab": {
     "base_uri": "https://localhost:8080/"
    },
    "id": "IPeR7SrrxJyg",
    "outputId": "e76199e9-f9f2-44f7-f96f-1c8f4aa43e39"
   },
   "outputs": [],
   "source": [
    "dataDF.show()"
   ]
  },
  {
   "cell_type": "markdown",
   "metadata": {
    "id": "LdYZIRwftOw7"
   },
   "source": [
    "### Filter data RDD\n",
    "\n",
    "Untuk melakukan filtering RDD, kita menggunakan fungsi transformasi `filter`, dengan parameter berupa ekspresi `lambda`.\n",
    "\n",
    "RDD tidak memiliki skema, sehingga kita mengakses baris dan kolom dengan menggunakan indeks.\n",
    "\n",
    "Perhatikan bahwa perintah-perintah ini tidak langsung dijalankan oleh Spark, meskipun kita meng-execute cell yang bersangkutan."
   ]
  },
  {
   "cell_type": "code",
   "execution_count": null,
   "metadata": {
    "id": "5WyfOAWduMo6"
   },
   "outputs": [],
   "source": [
    "rddf = dataRDD.filter(lambda x: x[0] == 'Banten')"
   ]
  },
  {
   "cell_type": "code",
   "execution_count": null,
   "metadata": {
    "colab": {
     "base_uri": "https://localhost:8080/"
    },
    "id": "Q1iyZXw_vgfb",
    "outputId": "294fa393-7955-4371-96e3-059a86736181"
   },
   "outputs": [],
   "source": [
    "rddf.collect()"
   ]
  },
  {
   "cell_type": "markdown",
   "metadata": {
    "id": "mBiVzq29wAVW"
   },
   "source": [
    "### Filtering DataFrame\n",
    "\n",
    "Untuk melakukan filtering, digunakan fungsi `filter`.\n",
    "\n",
    "Karena DataFrame memiliki skema, maka kita dapat menggunakan nama kolom untuk melakukan filtering"
   ]
  },
  {
   "cell_type": "code",
   "execution_count": null,
   "metadata": {
    "id": "9jDP0vOwvGse"
   },
   "outputs": [],
   "source": [
    "dff = dataDF.filter(dataDF['province'] == 'Banten')"
   ]
  },
  {
   "cell_type": "markdown",
   "metadata": {
    "id": "qBCdRtoevjiR"
   },
   "source": [
    "Tampilkan hasilnya dengan perintah `show`"
   ]
  },
  {
   "cell_type": "code",
   "execution_count": null,
   "metadata": {
    "colab": {
     "base_uri": "https://localhost:8080/"
    },
    "id": "RS1F_-FRvj1g",
    "outputId": "36cb3441-6607-4f70-f612-615b1ae188fe"
   },
   "outputs": [],
   "source": [
    "dff.show()"
   ]
  },
  {
   "cell_type": "markdown",
   "metadata": {
    "id": "z9BUd7bkr-1y"
   },
   "source": [
    "## Group by dan Agregasi"
   ]
  },
  {
   "cell_type": "markdown",
   "metadata": {
    "id": "8H2TrkMIY7N6"
   },
   "source": [
    "### RDD\n",
    "\n",
    "Untuk melakukan group by dan agregasi pada RDD, kita menggunakan fungsi transformasi `map` dan `reduceByKey`, dengan mengirimkan fungsi `lambda` sebagai parameter operasinya.\n",
    "\n",
    "- `map` menerapkan ekspresi `lambda` pada **setiap element x** RDD\n",
    "- `reduceByKey` melakukan operasi agregasi berdasar key tertentu sesuai ekspresi `lambda`"
   ]
  },
  {
   "cell_type": "code",
   "execution_count": null,
   "metadata": {
    "id": "jc4mjEUdYxk5"
   },
   "outputs": [],
   "source": [
    "# map 1       : tambahkan integer 1 di tiap row untuk melakukan count\n",
    "# reduceByKey : jumlahkan (sum) kolom populasi dan count\n",
    "# map 2       : hitung rata-rata dengan operasi : sum(populasi)/count\n",
    "\n",
    "popRDD = (dataRDD\n",
    "           .map(lambda x: (x[0], (x[1], 1)))\n",
    "           .reduceByKey(lambda x, y: (x[0] + y[0], x[1] + y[1]))\n",
    "           .map(lambda x: (x[0], x[1][0]/x[1][1])))"
   ]
  },
  {
   "cell_type": "markdown",
   "metadata": {
    "id": "NNZjZdbbY4rV"
   },
   "source": [
    "Tampilkan hasilnya"
   ]
  },
  {
   "cell_type": "code",
   "execution_count": null,
   "metadata": {
    "colab": {
     "base_uri": "https://localhost:8080/"
    },
    "id": "nN6mcrp0Y3DL",
    "outputId": "3d1f0a34-2482-497a-8e25-ffa80cb8d72f"
   },
   "outputs": [],
   "source": [
    "popRDD.collect()"
   ]
  },
  {
   "cell_type": "markdown",
   "metadata": {
    "id": "nXJ-1pHDbcm0"
   },
   "source": [
    "### DataFrame"
   ]
  },
  {
   "cell_type": "markdown",
   "metadata": {
    "id": "TKq6t6Tfb5by"
   },
   "source": [
    "Groupby dan agregat dengan menggunakan fungsi `groupBy` dan `agg`."
   ]
  },
  {
   "cell_type": "code",
   "execution_count": null,
   "metadata": {
    "id": "qP52TuuqcDJF"
   },
   "outputs": [],
   "source": [
    "# Group by province name and average population\n",
    "avgDF = dataDF.groupBy(\"province\").agg(F.avg(\"pop\"))"
   ]
  },
  {
   "cell_type": "markdown",
   "metadata": {
    "id": "WHGaT6cIcE8q"
   },
   "source": [
    "Tampilkan hasilnya"
   ]
  },
  {
   "cell_type": "code",
   "execution_count": null,
   "metadata": {
    "colab": {
     "base_uri": "https://localhost:8080/"
    },
    "id": "JTKnSA9wcF39",
    "outputId": "f5bc6a3a-9f9f-40bd-e1f6-489cca523692"
   },
   "outputs": [],
   "source": [
    "# Show the results\n",
    "avgDF.show()"
   ]
  },
  {
   "cell_type": "code",
   "execution_count": null,
   "metadata": {},
   "outputs": [],
   "source": []
  }
 ],
 "metadata": {
  "colab": {
   "provenance": [],
   "toc_visible": true
  },
  "kernelspec": {
   "display_name": "Python 3 (ipykernel)",
   "language": "python",
   "name": "python3"
  },
  "language_info": {
   "codemirror_mode": {
    "name": "ipython",
    "version": 3
   },
   "file_extension": ".py",
   "mimetype": "text/x-python",
   "name": "python",
   "nbconvert_exporter": "python",
   "pygments_lexer": "ipython3",
   "version": "3.11.13"
  }
 },
 "nbformat": 4,
 "nbformat_minor": 4
}
