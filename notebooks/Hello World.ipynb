{
 "cells": [
  {
   "cell_type": "markdown",
   "id": "95c1cf71-7d29-457c-af54-972751705dc9",
   "metadata": {},
   "source": [
    "# Berkenalan Singkat Dengan Minilake"
   ]
  },
  {
   "cell_type": "markdown",
   "id": "43271483-4293-4c70-bb90-4646456dbaf6",
   "metadata": {},
   "source": [
    "## Sepintas Mengenai Sistem Operasi"
   ]
  },
  {
   "cell_type": "code",
   "execution_count": null,
   "id": "e4a09279-d1eb-408f-9e7a-3616e83ec3fe",
   "metadata": {},
   "outputs": [],
   "source": [
    "! cat /etc/os-release"
   ]
  },
  {
   "cell_type": "code",
   "execution_count": null,
   "id": "ee20ce9d-fe3f-49f3-acde-dc55ca7216d0",
   "metadata": {},
   "outputs": [],
   "source": [
    "! whoami"
   ]
  },
  {
   "cell_type": "code",
   "execution_count": null,
   "id": "fc7a7c5e-aa7a-403a-a95b-7cc215f5ac00",
   "metadata": {},
   "outputs": [],
   "source": [
    "! pwd"
   ]
  },
  {
   "cell_type": "code",
   "execution_count": null,
   "id": "8ef4d548-12f5-4b21-8a28-3feabb3ab118",
   "metadata": {},
   "outputs": [],
   "source": [
    "!ls -lah"
   ]
  },
  {
   "cell_type": "markdown",
   "id": "d8c03db3-1291-416c-98dd-0173c47e1551",
   "metadata": {},
   "source": [
    "## Tentang Spark"
   ]
  },
  {
   "cell_type": "code",
   "execution_count": null,
   "id": "7de1b2a7-4774-47f7-b139-415e07f4555f",
   "metadata": {},
   "outputs": [],
   "source": [
    "spark"
   ]
  },
  {
   "cell_type": "code",
   "execution_count": null,
   "id": "a3983b85-83be-4c64-b5ba-d6d5cb30bd49",
   "metadata": {},
   "outputs": [],
   "source": [
    "spark.conf.get(\"spark.app.name\")"
   ]
  },
  {
   "cell_type": "code",
   "execution_count": null,
   "id": "835e7d8a-662d-4a85-939b-76df1f6dc76c",
   "metadata": {},
   "outputs": [],
   "source": [
    "spark.conf.get(\"spark.master\")"
   ]
  },
  {
   "cell_type": "code",
   "execution_count": null,
   "id": "d6157543-7f6c-4586-b855-56a0c0a638e1",
   "metadata": {},
   "outputs": [],
   "source": [
    "spark.conf.get(\"spark.sql.catalogImplementation\")"
   ]
  },
  {
   "cell_type": "code",
   "execution_count": null,
   "id": "fbe25660-4f09-4101-9c9b-36a0845d8eb9",
   "metadata": {},
   "outputs": [],
   "source": [
    "spark.catalog.currentCatalog()"
   ]
  },
  {
   "cell_type": "code",
   "execution_count": null,
   "id": "690e48c0-b7f1-41c6-9db4-e3986d603583",
   "metadata": {},
   "outputs": [],
   "source": [
    "spark.conf.get(\"spark.sql.catalog.minilake.uri\")"
   ]
  },
  {
   "cell_type": "markdown",
   "id": "05a690cd-3dea-4bdc-9a13-66e05c4c8606",
   "metadata": {},
   "source": [
    "## Say Hello to Iceberg"
   ]
  },
  {
   "cell_type": "markdown",
   "id": "4c4ec1db-9763-4eb2-9dbe-6251e69c189f",
   "metadata": {},
   "source": [
    "Menampilkan semua catalog yang ada pada Iceberg"
   ]
  },
  {
   "cell_type": "code",
   "execution_count": null,
   "id": "e555d9f6-260f-4fdc-83ca-594e7c3ce1e0",
   "metadata": {},
   "outputs": [],
   "source": [
    "%%sql\n",
    "\n",
    "SHOW CATALOGS "
   ]
  },
  {
   "cell_type": "markdown",
   "id": "47bf42ab-392a-470f-b160-c12b8df71622",
   "metadata": {},
   "source": [
    "Menampilkan semua database pada Iceberg"
   ]
  },
  {
   "cell_type": "code",
   "execution_count": null,
   "id": "b916dd96-85d5-456d-ba60-94cd67ed3be3",
   "metadata": {},
   "outputs": [],
   "source": [
    "%%sql\n",
    "\n",
    "SHOW DATABASES"
   ]
  },
  {
   "cell_type": "markdown",
   "id": "2baa8c47-2136-4c5e-b429-7f724082ce5c",
   "metadata": {},
   "source": [
    "### Membuat Database dan Table"
   ]
  },
  {
   "cell_type": "code",
   "execution_count": null,
   "id": "3f2a6d60-5c11-4669-8bda-1357923efab1",
   "metadata": {},
   "outputs": [],
   "source": [
    "%%sql\n",
    "    \n",
    "CREATE DATABASE IF NOT EXISTS sample"
   ]
  },
  {
   "cell_type": "code",
   "execution_count": null,
   "id": "e3d77105-cf44-4576-a450-08632a98611f",
   "metadata": {},
   "outputs": [],
   "source": [
    "%%sql\n",
    "\n",
    "SHOW DATABASES"
   ]
  },
  {
   "cell_type": "markdown",
   "id": "08f4988b-96c8-448a-8de8-d34b94ad0a91",
   "metadata": {},
   "source": [
    "Membuat tabel  `weather`"
   ]
  },
  {
   "cell_type": "code",
   "execution_count": null,
   "id": "204cc617-c769-4feb-9aaf-d1e3d040b8dd",
   "metadata": {},
   "outputs": [],
   "source": [
    "%%sql\n",
    "CREATE TABLE IF NOT EXISTS sample.weather (\n",
    "    datetime              timestamp,\n",
    "    temp                  double,\n",
    "    lat                   double,\n",
    "    long                  double,\n",
    "    cloud_coverage        string,\n",
    "    precip                double,\n",
    "    wind_speed            double\n",
    ")\n",
    "USING iceberg\n",
    "PARTITIONED BY (days(datetime))"
   ]
  },
  {
   "cell_type": "code",
   "execution_count": null,
   "id": "50e7d3ec-d27d-4247-b0c1-87d3694671ed",
   "metadata": {},
   "outputs": [],
   "source": [
    "%%sql\n",
    "DESCRIBE TABLE EXTENDED sample.weather"
   ]
  },
  {
   "cell_type": "code",
   "execution_count": null,
   "id": "3e9432f0-a853-4d4a-ad83-a907c4982ea5",
   "metadata": {},
   "outputs": [],
   "source": [
    "%%sql\n",
    "\n",
    "SELECT * FROM sample.weather"
   ]
  },
  {
   "cell_type": "markdown",
   "id": "ce275c12-334c-41d0-ab81-0ecd19b5a812",
   "metadata": {},
   "source": [
    "Mengupload contoh data dari dataframe"
   ]
  },
  {
   "cell_type": "code",
   "execution_count": null,
   "id": "772aa2d9-446b-4b3c-ac1a-b7038cc3a363",
   "metadata": {},
   "outputs": [],
   "source": [
    "from datetime import datetime\n",
    "\n",
    "schema = spark.table(\"sample.weather\").schema\n",
    "\n",
    "data = [\n",
    "    (datetime(2023,8,16), 76.2, 40.951908, -74.075272, \"Partially sunny\", 0.0, 3.5),\n",
    "    (datetime(2023,8,17), 82.5, 40.951908, -74.075272, \"Sunny\", 0.0, 1.2),\n",
    "    (datetime(2023,8,18), 70.9, 40.951908, -74.075272, \"Cloudy\", .5, 5.2)\n",
    "  ]\n",
    "\n",
    "df = spark.createDataFrame(data, schema)\n",
    "df.writeTo(\"sample.weather\").append()"
   ]
  },
  {
   "cell_type": "code",
   "execution_count": null,
   "id": "2d40646b-acca-48cd-b70d-40a3642b01db",
   "metadata": {},
   "outputs": [],
   "source": [
    "%%sql\n",
    "\n",
    "SELECT * FROM sample.weather"
   ]
  },
  {
   "cell_type": "markdown",
   "id": "bf0c1a99-0906-489b-8804-a92c282653bc",
   "metadata": {},
   "source": [
    "Agregasi sederhana"
   ]
  },
  {
   "cell_type": "code",
   "execution_count": null,
   "id": "1da37aab-5893-4f6c-a7a9-21cb65efb4d7",
   "metadata": {},
   "outputs": [],
   "source": [
    "%%sql\n",
    "\n",
    "SELECT cloud_coverage, count(*), sum(temp), avg(precip)\n",
    "FROM sample.weather\n",
    "GROUP BY cloud_coverage\n",
    "ORDER BY cloud_coverage"
   ]
  },
  {
   "cell_type": "code",
   "execution_count": null,
   "id": "a5b89caf-ca3b-44b0-8757-316e3c7294a5",
   "metadata": {},
   "outputs": [],
   "source": []
  }
 ],
 "metadata": {
  "kernelspec": {
   "display_name": "Python 3 (ipykernel)",
   "language": "python",
   "name": "python3"
  },
  "language_info": {
   "codemirror_mode": {
    "name": "ipython",
    "version": 3
   },
   "file_extension": ".py",
   "mimetype": "text/x-python",
   "name": "python",
   "nbconvert_exporter": "python",
   "pygments_lexer": "ipython3",
   "version": "3.11.13"
  }
 },
 "nbformat": 4,
 "nbformat_minor": 5
}
