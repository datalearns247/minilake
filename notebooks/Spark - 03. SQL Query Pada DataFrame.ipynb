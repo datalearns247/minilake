{
  "nbformat": 4,
  "nbformat_minor": 0,
  "metadata": {
    "colab": {
      "provenance": []
    },
    "kernelspec": {
      "name": "python3",
      "display_name": "Python 3"
    },
    "language_info": {
      "name": "python"
    }
  },
  "cells": [
    {
      "cell_type": "markdown",
      "source": [
        "#Lab 03 - SQL Query Pada DataFrame.ipynb\n",
        "\n",
        "SQL adalah salah satu bahasa populer untuk pemrosesan dan analisis data. Spark mendukung SQL untuk memproses DataFrame. Dalam latihan ini kita akan menggunakan spark SQL tanpa database.\n"
      ],
      "metadata": {
        "id": "vJbZRSkkTnAw"
      }
    },
    {
      "cell_type": "code",
      "metadata": {
        "id": "xyqGzlLOuBpV",
        "colab": {
          "base_uri": "https://localhost:8080/"
        },
        "outputId": "33188bb1-146c-40d4-8d26-fb1224426e8b"
      },
      "source": [
        "%pip install pyspark"
      ],
      "execution_count": 1,
      "outputs": [
        {
          "output_type": "stream",
          "name": "stdout",
          "text": [
            "Requirement already satisfied: pyspark in /usr/local/lib/python3.11/dist-packages (3.5.1)\n",
            "Requirement already satisfied: py4j==0.10.9.7 in /usr/local/lib/python3.11/dist-packages (from pyspark) (0.10.9.7)\n"
          ]
        }
      ]
    },
    {
      "cell_type": "markdown",
      "source": [
        "Import packages"
      ],
      "metadata": {
        "id": "RU_yJ462eXK2"
      }
    },
    {
      "cell_type": "code",
      "metadata": {
        "id": "qJDNbI5gti9B"
      },
      "source": [
        "from pyspark.sql import SparkSession"
      ],
      "execution_count": 2,
      "outputs": []
    },
    {
      "cell_type": "markdown",
      "source": [
        "Inisialisasi spark session untuk berinteraksi dengan Spark cluster."
      ],
      "metadata": {
        "id": "HgEv2iNhTitC"
      }
    },
    {
      "cell_type": "code",
      "metadata": {
        "id": "Hnxed8rpt5Xs"
      },
      "source": [
        "spark = SparkSession.builder.appName('DataFrame Basics').getOrCreate()"
      ],
      "execution_count": 3,
      "outputs": []
    },
    {
      "cell_type": "markdown",
      "source": [
        "Download dataset"
      ],
      "metadata": {
        "id": "iHGCn-voUTzn"
      }
    },
    {
      "cell_type": "code",
      "source": [
        "!wget https://github.com/urfie/SparkSQL-dengan-Hive/raw/main/datasets/application_record_header.csv.gz"
      ],
      "metadata": {
        "id": "PQTqnwezHtSq",
        "colab": {
          "base_uri": "https://localhost:8080/"
        },
        "outputId": "9c6eb166-90b3-46c5-bb3a-479b60c2d361"
      },
      "execution_count": 4,
      "outputs": [
        {
          "output_type": "stream",
          "name": "stdout",
          "text": [
            "--2025-08-11 04:37:10--  https://github.com/urfie/SparkSQL-dengan-Hive/raw/main/datasets/application_record_header.csv.gz\n",
            "Resolving github.com (github.com)... 140.82.113.4\n",
            "Connecting to github.com (github.com)|140.82.113.4|:443... connected.\n",
            "HTTP request sent, awaiting response... 302 Found\n",
            "Location: https://raw.githubusercontent.com/urfie/SparkSQL-dengan-Hive/main/datasets/application_record_header.csv.gz [following]\n",
            "--2025-08-11 04:37:11--  https://raw.githubusercontent.com/urfie/SparkSQL-dengan-Hive/main/datasets/application_record_header.csv.gz\n",
            "Resolving raw.githubusercontent.com (raw.githubusercontent.com)... 185.199.111.133, 185.199.108.133, 185.199.109.133, ...\n",
            "Connecting to raw.githubusercontent.com (raw.githubusercontent.com)|185.199.111.133|:443... connected.\n",
            "HTTP request sent, awaiting response... 200 OK\n",
            "Length: 3175443 (3.0M) [application/octet-stream]\n",
            "Saving to: ‘application_record_header.csv.gz’\n",
            "\n",
            "application_record_ 100%[===================>]   3.03M  --.-KB/s    in 0.06s   \n",
            "\n",
            "2025-08-11 04:37:11 (49.6 MB/s) - ‘application_record_header.csv.gz’ saved [3175443/3175443]\n",
            "\n"
          ]
        }
      ]
    },
    {
      "cell_type": "markdown",
      "source": [
        "Load ke dataframe"
      ],
      "metadata": {
        "id": "-vEl7qY6UV4Y"
      }
    },
    {
      "cell_type": "code",
      "source": [
        "df = spark.read.csv(\"application_record_header.csv.gz\", header=True, inferSchema=True)"
      ],
      "metadata": {
        "id": "ArREYTQWHy3J"
      },
      "execution_count": 5,
      "outputs": []
    },
    {
      "cell_type": "markdown",
      "source": [
        "Tampilkan 5 baris pertama"
      ],
      "metadata": {
        "id": "UoQe3w1RtSZ8"
      }
    },
    {
      "cell_type": "code",
      "source": [
        "df.show(5)"
      ],
      "metadata": {
        "colab": {
          "base_uri": "https://localhost:8080/"
        },
        "id": "QBROyjJsVvfU",
        "outputId": "49f2ba10-f715-4692-e70e-be44757da50c"
      },
      "execution_count": 6,
      "outputs": [
        {
          "output_type": "stream",
          "name": "stdout",
          "text": [
            "+-------+-----------+------------+---------------+------------+----------------+--------------------+--------------------+--------------------+-----------------+----------+-------------+----------+---------------+----------+----------+---------------+---------------+\n",
            "|     ID|CODE_GENDER|FLAG_OWN_CAR|FLAG_OWN_REALTY|CNT_CHILDREN|AMT_INCOME_TOTAL|    NAME_INCOME_TYPE| NAME_EDUCATION_TYPE|  NAME_FAMILY_STATUS|NAME_HOUSING_TYPE|DAYS_BIRTH|DAYS_EMPLOYED|FLAG_MOBIL|FLAG_WORK_PHONE|FLAG_PHONE|FLAG_EMAIL|OCCUPATION_TYPE|CNT_FAM_MEMBERS|\n",
            "+-------+-----------+------------+---------------+------------+----------------+--------------------+--------------------+--------------------+-----------------+----------+-------------+----------+---------------+----------+----------+---------------+---------------+\n",
            "|5008804|          M|           Y|              Y|           0|        427500.0|             Working|    Higher education|      Civil marriage| Rented apartment|    -12005|        -4542|         1|              1|         0|         0|           NULL|            2.0|\n",
            "|5008805|          M|           Y|              Y|           0|        427500.0|             Working|    Higher education|      Civil marriage| Rented apartment|    -12005|        -4542|         1|              1|         0|         0|           NULL|            2.0|\n",
            "|5008806|          M|           Y|              Y|           0|        112500.0|             Working|Secondary / secon...|             Married|House / apartment|    -21474|        -1134|         1|              0|         0|         0| Security staff|            2.0|\n",
            "|5008808|          F|           N|              Y|           0|        270000.0|Commercial associate|Secondary / secon...|Single / not married|House / apartment|    -19110|        -3051|         1|              0|         1|         1|    Sales staff|            1.0|\n",
            "|5008809|          F|           N|              Y|           0|        270000.0|Commercial associate|Secondary / secon...|Single / not married|House / apartment|    -19110|        -3051|         1|              0|         1|         1|    Sales staff|            1.0|\n",
            "+-------+-----------+------------+---------------+------------+----------------+--------------------+--------------------+--------------------+-----------------+----------+-------------+----------+---------------+----------+----------+---------------+---------------+\n",
            "only showing top 5 rows\n",
            "\n"
          ]
        }
      ]
    },
    {
      "cell_type": "markdown",
      "source": [
        "## Membuat temporary table/view"
      ],
      "metadata": {
        "id": "8EN31HcstWLW"
      }
    },
    {
      "cell_type": "markdown",
      "source": [
        "Sebelum menggunakan SQL, kita perlu membuat temporary table dari dataframe yang akan kita olah.\n",
        "\n",
        "Gunakan fungsi `createOrReplaceTempView(nama_tabel)` pada dataframe tersebut."
      ],
      "metadata": {
        "id": "lvgyM2iKUYS9"
      }
    },
    {
      "cell_type": "code",
      "source": [
        "df.createOrReplaceTempView(\"app_record\")"
      ],
      "metadata": {
        "id": "29qI_YUJnF_N"
      },
      "execution_count": 7,
      "outputs": []
    },
    {
      "cell_type": "markdown",
      "source": [
        "## Menjalankan perintah SQL\n",
        "\n",
        "Selanjutnya untuk mengakses DataFrame dengan SQL, kita bisa menggunakan nama tabel yang sudah kita definisikan dalam SQL statement.\n",
        "\n",
        "Untuk mengeksekusi SQL statement, kita gunakan fungsi `sql(sqlstatement)` pada object spark session.\n",
        "\n",
        "perintah `sql()` mengembalikan sebuah DataFrame. Untuk menampilkan ke layar, kita perlu gunakan fungsi `show()` seperti DataFrame pada umumnya."
      ],
      "metadata": {
        "id": "xuijaPcEUz3g"
      }
    },
    {
      "cell_type": "code",
      "source": [
        "spark.sql(\"select avg(DAYS_BIRTH) from app_record\").show()"
      ],
      "metadata": {
        "id": "mEZWLQbtnIHX",
        "colab": {
          "base_uri": "https://localhost:8080/"
        },
        "outputId": "b22b3543-80d1-42a8-9273-7c0bd6eae6dd"
      },
      "execution_count": 8,
      "outputs": [
        {
          "output_type": "stream",
          "name": "stdout",
          "text": [
            "+-------------------+\n",
            "|    avg(DAYS_BIRTH)|\n",
            "+-------------------+\n",
            "|-15997.904648654565|\n",
            "+-------------------+\n",
            "\n"
          ]
        }
      ]
    },
    {
      "cell_type": "code",
      "source": [
        "spark.sql(\"select * from app_record limit 5\").show()"
      ],
      "metadata": {
        "id": "6fLoE47EnMtP",
        "colab": {
          "base_uri": "https://localhost:8080/"
        },
        "outputId": "6a55a950-f65f-4291-80fa-28091d26270f"
      },
      "execution_count": 9,
      "outputs": [
        {
          "output_type": "stream",
          "name": "stdout",
          "text": [
            "+-------+-----------+------------+---------------+------------+----------------+--------------------+--------------------+--------------------+-----------------+----------+-------------+----------+---------------+----------+----------+---------------+---------------+\n",
            "|     ID|CODE_GENDER|FLAG_OWN_CAR|FLAG_OWN_REALTY|CNT_CHILDREN|AMT_INCOME_TOTAL|    NAME_INCOME_TYPE| NAME_EDUCATION_TYPE|  NAME_FAMILY_STATUS|NAME_HOUSING_TYPE|DAYS_BIRTH|DAYS_EMPLOYED|FLAG_MOBIL|FLAG_WORK_PHONE|FLAG_PHONE|FLAG_EMAIL|OCCUPATION_TYPE|CNT_FAM_MEMBERS|\n",
            "+-------+-----------+------------+---------------+------------+----------------+--------------------+--------------------+--------------------+-----------------+----------+-------------+----------+---------------+----------+----------+---------------+---------------+\n",
            "|5008804|          M|           Y|              Y|           0|        427500.0|             Working|    Higher education|      Civil marriage| Rented apartment|    -12005|        -4542|         1|              1|         0|         0|           NULL|            2.0|\n",
            "|5008805|          M|           Y|              Y|           0|        427500.0|             Working|    Higher education|      Civil marriage| Rented apartment|    -12005|        -4542|         1|              1|         0|         0|           NULL|            2.0|\n",
            "|5008806|          M|           Y|              Y|           0|        112500.0|             Working|Secondary / secon...|             Married|House / apartment|    -21474|        -1134|         1|              0|         0|         0| Security staff|            2.0|\n",
            "|5008808|          F|           N|              Y|           0|        270000.0|Commercial associate|Secondary / secon...|Single / not married|House / apartment|    -19110|        -3051|         1|              0|         1|         1|    Sales staff|            1.0|\n",
            "|5008809|          F|           N|              Y|           0|        270000.0|Commercial associate|Secondary / secon...|Single / not married|House / apartment|    -19110|        -3051|         1|              0|         1|         1|    Sales staff|            1.0|\n",
            "+-------+-----------+------------+---------------+------------+----------------+--------------------+--------------------+--------------------+-----------------+----------+-------------+----------+---------------+----------+----------+---------------+---------------+\n",
            "\n"
          ]
        }
      ]
    },
    {
      "cell_type": "markdown",
      "source": [
        "## Join dan Agregasi DataFrame dengan SQL"
      ],
      "metadata": {
        "id": "q6imVfIJwgi8"
      }
    },
    {
      "cell_type": "markdown",
      "source": [
        "Kita akan melakukan join salah satu kolom dengan data referensi dan melakukan agregasi. Sebelumnya kita buat dataframe referensi dan membuat temporary viewnya"
      ],
      "metadata": {
        "id": "BeWp1FhmLrs0"
      }
    },
    {
      "cell_type": "code",
      "source": [
        "spark.sql(\"select distinct NAME_EDUCATION_TYPE from app_record\").show(truncate=False)"
      ],
      "metadata": {
        "colab": {
          "base_uri": "https://localhost:8080/"
        },
        "id": "wIUeJPhfWX4g",
        "outputId": "d9a1ccc0-68fa-41af-fe7b-05c936f5299b"
      },
      "execution_count": 10,
      "outputs": [
        {
          "output_type": "stream",
          "name": "stdout",
          "text": [
            "+-----------------------------+\n",
            "|NAME_EDUCATION_TYPE          |\n",
            "+-----------------------------+\n",
            "|Academic degree              |\n",
            "|Incomplete higher            |\n",
            "|Secondary / secondary special|\n",
            "|Lower secondary              |\n",
            "|Higher education             |\n",
            "+-----------------------------+\n",
            "\n"
          ]
        }
      ]
    },
    {
      "cell_type": "code",
      "source": [
        "mydata = (\n",
        "    ('Lower secondary',1),\n",
        "    ('Secondary / secondary special',2),\n",
        "    ('Academic degree',3),\n",
        "    ('Incomplete higher',4),\n",
        "    ('Higher education',5))\n",
        "\n",
        "ref_edu = spark.createDataFrame(mydata).toDF(\"NAME_EDUCATION_TYPE\", \"EDU_LEVEL\")\n",
        "ref_edu.createOrReplaceTempView(\"ref_edu\")\n",
        "spark.sql(\"select * from ref_edu\").show()"
      ],
      "metadata": {
        "colab": {
          "base_uri": "https://localhost:8080/"
        },
        "id": "py7cZ3yF7INt",
        "outputId": "af8a7ddc-10a2-48a0-8a81-5ad2f75a1d86"
      },
      "execution_count": 11,
      "outputs": [
        {
          "output_type": "stream",
          "name": "stdout",
          "text": [
            "+--------------------+---------+\n",
            "| NAME_EDUCATION_TYPE|EDU_LEVEL|\n",
            "+--------------------+---------+\n",
            "|     Lower secondary|        1|\n",
            "|Secondary / secon...|        2|\n",
            "|     Academic degree|        3|\n",
            "|   Incomplete higher|        4|\n",
            "|    Higher education|        5|\n",
            "+--------------------+---------+\n",
            "\n"
          ]
        }
      ]
    },
    {
      "cell_type": "markdown",
      "source": [
        "Kita lakukan join, agregat, kemudian kita tampilkan hasilnya ke layar"
      ],
      "metadata": {
        "id": "r4kk2JrXMRRL"
      }
    },
    {
      "cell_type": "code",
      "source": [
        "agg_edu = spark.sql(\"\"\"SELECT edu_level, count(1) as number_of_app FROM\n",
        "              (SELECT ref_edu.EDU_LEVEL as edu_level\n",
        "                FROM app_record LEFT JOIN ref_edu\n",
        "                ON app_record.NAME_EDUCATION_TYPE=ref_edu.NAME_EDUCATION_TYPE)\n",
        "             GROUP BY edu_level SORT BY edu_level\"\"\")\n",
        "\n",
        "agg_edu.show()"
      ],
      "metadata": {
        "colab": {
          "base_uri": "https://localhost:8080/"
        },
        "id": "lgDMlNNywwpu",
        "outputId": "4dcf00f5-b638-4323-d9cc-02719caffb42"
      },
      "execution_count": 15,
      "outputs": [
        {
          "output_type": "stream",
          "name": "stdout",
          "text": [
            "+---------+-------------+\n",
            "|edu_level|number_of_app|\n",
            "+---------+-------------+\n",
            "|        1|         4051|\n",
            "|        2|       301821|\n",
            "|        3|          312|\n",
            "|        4|        14851|\n",
            "|        5|       117522|\n",
            "+---------+-------------+\n",
            "\n"
          ]
        }
      ]
    },
    {
      "cell_type": "markdown",
      "source": [
        "## Menyimpan ke database\n",
        "\n",
        "Untuk mengupload konten DataFrame ke database, gunakan perintah `DataFrame.write.saveAsTable(name=nama_tabel_db)`\n",
        "\n",
        "Kita juga dapat menentukan mode penulisannya : `append`, `overwrite`, `error`, `errorifexists`, `ignore`."
      ],
      "metadata": {
        "id": "BN_vcU7YxZEd"
      }
    },
    {
      "cell_type": "code",
      "source": [
        "agg_edu.write.saveAsTable(name=\"aggregated_edu\", mode=\"overwrite\")"
      ],
      "metadata": {
        "id": "IkuuNd0ynWll"
      },
      "execution_count": 16,
      "outputs": []
    },
    {
      "cell_type": "markdown",
      "source": [
        "## Menampilkan metadata tabel"
      ],
      "metadata": {
        "id": "9Q6RoE9EySe_"
      }
    },
    {
      "cell_type": "markdown",
      "source": [
        "Kita bisa melihat atribut tabel yang dihasilkan dengan menampilkan metadatanya, menggunakan perintah `describe formatted`"
      ],
      "metadata": {
        "id": "qV_594qnMeOV"
      }
    },
    {
      "cell_type": "code",
      "source": [
        "spark.sql(\"describe formatted aggregated_edu\").show(truncate = False)"
      ],
      "metadata": {
        "id": "ysuMyldWC59p",
        "colab": {
          "base_uri": "https://localhost:8080/"
        },
        "outputId": "2ee67d29-74f3-49f4-914c-516fccbd0e96"
      },
      "execution_count": 13,
      "outputs": [
        {
          "output_type": "stream",
          "name": "stdout",
          "text": [
            "+----------------------------+--------------------------------------------+-------+\n",
            "|col_name                    |data_type                                   |comment|\n",
            "+----------------------------+--------------------------------------------+-------+\n",
            "|edu_level                   |bigint                                      |NULL   |\n",
            "|number_of_app               |bigint                                      |NULL   |\n",
            "|                            |                                            |       |\n",
            "|# Detailed Table Information|                                            |       |\n",
            "|Catalog                     |spark_catalog                               |       |\n",
            "|Database                    |default                                     |       |\n",
            "|Table                       |aggregated_edu                              |       |\n",
            "|Created Time                |Mon Aug 11 04:37:42 UTC 2025                |       |\n",
            "|Last Access                 |UNKNOWN                                     |       |\n",
            "|Created By                  |Spark 3.5.1                                 |       |\n",
            "|Type                        |MANAGED                                     |       |\n",
            "|Provider                    |parquet                                     |       |\n",
            "|Location                    |file:/content/spark-warehouse/aggregated_edu|       |\n",
            "+----------------------------+--------------------------------------------+-------+\n",
            "\n"
          ]
        }
      ]
    },
    {
      "cell_type": "markdown",
      "source": [
        "Karena kita tidak menggunakan koneksi ke database, perintah `DataFrame.write.saveAsTable()` akan menyimpannya sebagai file parquet ke sebuah direktori di distributed storage yang digunakan.\n",
        "\n",
        "Lokasi direktorinya dapat dilihat dari atribut `Location`, dalam hal ini `file:/content/spark-warehouse/aggregated_edu`"
      ],
      "metadata": {
        "id": "pbYiKn_6yoqO"
      }
    },
    {
      "cell_type": "code",
      "source": [
        "%ls -l /content/spark-warehouse/aggregated_edu/"
      ],
      "metadata": {
        "colab": {
          "base_uri": "https://localhost:8080/"
        },
        "id": "qk474fUWO-Rz",
        "outputId": "7130ac97-2731-405c-8808-bb4068c557e8"
      },
      "execution_count": 14,
      "outputs": [
        {
          "output_type": "stream",
          "name": "stdout",
          "text": [
            "total 4\n",
            "-rw-r--r-- 1 root root 824 Aug 11 04:37 part-00000-c1a568c8-696c-496d-a009-9201c52eb196-c000.snappy.parquet\n",
            "-rw-r--r-- 1 root root   0 Aug 11 04:37 _SUCCESS\n"
          ]
        }
      ]
    }
  ]
}